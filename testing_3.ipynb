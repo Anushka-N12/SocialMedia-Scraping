{
 "cells": [
  {
   "cell_type": "code",
   "execution_count": 1,
   "metadata": {},
   "outputs": [],
   "source": [
    "# Importing libraries for web scraping, mainly using Selenium & BeautifulSoup\n",
    "# Extracting additional info with CoinGecko API\n",
    "from selenium import webdriver\n",
    "# from selenium.webdriver import Chrome\n",
    "from selenium.webdriver.common.by import By\n",
    "from bs4 import BeautifulSoup\n",
    "import pandas as pd\n",
    "import time, requests, json\n",
    "from datetime import datetime"
   ]
  },
  {
   "cell_type": "code",
   "execution_count": null,
   "metadata": {},
   "outputs": [],
   "source": [
    "def check_value(x):\n",
    "    if 'N/A' in x:\n",
    "        x = None\n",
    "    return x"
   ]
  },
  {
   "cell_type": "code",
   "execution_count": null,
   "metadata": {},
   "outputs": [],
   "source": [
    "# To try finding social media of token by name\n",
    "# Sometimes sites load but return account does not exist\n",
    "def get_social_media_profiles(username):\n",
    "    urls = {\n",
    "    'Facebook': f'https://www.facebook.com/{username}',\n",
    "    'Twitter': f'https://twitter.com/{username}',\n",
    "    'Instagram': f'https://www.instagram.com/{username}',\n",
    "    'Youtube': f'https://www.youtube.com/@{username}',\n",
    "    'Telegram': f'https://www..me/{username}'\n",
    "    }   # Linkedin & Discord aren't working this way\n",
    "    profiles = {}\n",
    "    for name, url in urls.items():\n",
    "        try:\n",
    "            response = requests.get(url)\n",
    "            if response.status_code != 200:\n",
    "                continue\n",
    "            profiles [name] = url\n",
    "        except:\n",
    "            continue\n",
    "    return profiles\n",
    "\n",
    "name = 'Hifi Finance'\n",
    "username = name.replace(\" \", \"\")\n",
    "social_media = get_social_media_profiles(username)\n",
    "social_media"
   ]
  },
  {
   "cell_type": "code",
   "execution_count": null,
   "metadata": {},
   "outputs": [],
   "source": [
    "if 'Twitter' in social_media.keys:\n",
    "    twitter_f = get_twitter_followers(username)\n",
    "else:\n",
    "    twitter_f = None\n",
    "if 'Instagram' in social_media.keys:\n",
    "    insta_f = get_insta_followers(username)\n",
    "else:\n",
    "    insta_f = None\n",
    "if 'Telegram' in social_media.keys:\n",
    "    telegram_f = get_telegram_followers(username)\n",
    "else:\n",
    "    telegram_f = None\n",
    "if 'Facebook' in social_media.keys:\n",
    "    fb_f = get_fb_followers(username)\n",
    "else:\n",
    "    fb_f = None\n",
    "if 'Youtube' in social_media.keys:\n",
    "    yt = social_media['Youtube']\n",
    "else:\n",
    "    yt = None\n",
    "links = social_media.values"
   ]
  },
  {
   "cell_type": "code",
   "execution_count": 4,
   "metadata": {},
   "outputs": [
    {
     "name": "stdout",
     "output_type": "stream",
     "text": [
      "3\n",
      "9\n",
      "No. of followers:  42K\n",
      "No. of tweets collected:  9\n",
      "Processing tweet 0\n",
      "Date of tweet 1: Jul 11, 2023\n",
      "Tweet 1: Super honored & humbled to be named as a Top 3 Most Influential Financial Advisor but the honor truly belongs to my amazing Team that never fails to find innovative ways of getting our message about strategic tax planning and risk mitigation out to the world! Thanks @Investopedia\n",
      "1\n",
      "No. of comments of tweet 1: 3\n"
     ]
    },
    {
     "ename": "NoSuchElementException",
     "evalue": "Message: no such element: Unable to locate element: {\"method\":\"xpath\",\"selector\":\"button/div/div[2]/span/span/span\"}\n  (Session info: chrome=126.0.6478.127); For documentation on this error, please visit: https://www.selenium.dev/documentation/webdriver/troubleshooting/errors#no-such-element-exception\nStacktrace:\n\tGetHandleVerifier [0x00007FF6150CEEA2+31554]\n\t(No symbol) [0x00007FF615047ED9]\n\t(No symbol) [0x00007FF614F0872A]\n\t(No symbol) [0x00007FF614F58434]\n\t(No symbol) [0x00007FF614F5853C]\n\t(No symbol) [0x00007FF614F4BBAC]\n\t(No symbol) [0x00007FF614F7D06F]\n\t(No symbol) [0x00007FF614F4BA76]\n\t(No symbol) [0x00007FF614F7D240]\n\t(No symbol) [0x00007FF614F9C977]\n\t(No symbol) [0x00007FF614F7CDD3]\n\t(No symbol) [0x00007FF614F4A33B]\n\t(No symbol) [0x00007FF614F4AED1]\n\tGetHandleVerifier [0x00007FF6153D8B1D+3217341]\n\tGetHandleVerifier [0x00007FF615425AE3+3532675]\n\tGetHandleVerifier [0x00007FF61541B0E0+3489152]\n\tGetHandleVerifier [0x00007FF61517E776+750614]\n\t(No symbol) [0x00007FF61505375F]\n\t(No symbol) [0x00007FF61504EB14]\n\t(No symbol) [0x00007FF61504ECA2]\n\t(No symbol) [0x00007FF61503E16F]\n\tBaseThreadInitThunk [0x00007FF903CF257D+29]\n\tRtlUserThreadStart [0x00007FF904A0AF28+40]\n",
     "output_type": "error",
     "traceback": [
      "\u001b[1;31m---------------------------------------------------------------------------\u001b[0m",
      "\u001b[1;31mNoSuchElementException\u001b[0m                    Traceback (most recent call last)",
      "Cell \u001b[1;32mIn [4], line 83\u001b[0m\n\u001b[0;32m     80\u001b[0m     \u001b[38;5;28;01mreturn\u001b[39;00m fcount, info\n\u001b[0;32m     82\u001b[0m username \u001b[38;5;241m=\u001b[39m \u001b[38;5;124m'\u001b[39m\u001b[38;5;124mrebeccawalser\u001b[39m\u001b[38;5;124m'\u001b[39m\u001b[38;5;66;03m#'BreederDAO'\u001b[39;00m\n\u001b[1;32m---> 83\u001b[0m \u001b[38;5;28mprint\u001b[39m(\u001b[43mget_twitter_followers\u001b[49m\u001b[43m(\u001b[49m\u001b[43musername\u001b[49m\u001b[43m)\u001b[49m)\n",
      "Cell \u001b[1;32mIn [4], line 66\u001b[0m, in \u001b[0;36mget_twitter_followers\u001b[1;34m(username)\u001b[0m\n\u001b[0;32m     64\u001b[0m d[\u001b[38;5;124m'\u001b[39m\u001b[38;5;124mcomments_num\u001b[39m\u001b[38;5;124m'\u001b[39m] \u001b[38;5;241m=\u001b[39m com_num\n\u001b[0;32m     65\u001b[0m \u001b[38;5;28mprint\u001b[39m(\u001b[38;5;124mf\u001b[39m\u001b[38;5;124m'\u001b[39m\u001b[38;5;124mNo. of comments of tweet \u001b[39m\u001b[38;5;132;01m{\u001b[39;00mnum\u001b[38;5;241m+\u001b[39m\u001b[38;5;241m1\u001b[39m\u001b[38;5;132;01m}\u001b[39;00m\u001b[38;5;124m: \u001b[39m\u001b[38;5;132;01m{\u001b[39;00mcom_num\u001b[38;5;132;01m}\u001b[39;00m\u001b[38;5;124m'\u001b[39m)\n\u001b[1;32m---> 66\u001b[0m re_num \u001b[38;5;241m=\u001b[39m \u001b[43mretweets\u001b[49m\u001b[38;5;241;43m.\u001b[39;49m\u001b[43mfind_element\u001b[49m\u001b[43m(\u001b[49m\u001b[43mBy\u001b[49m\u001b[38;5;241;43m.\u001b[39;49m\u001b[43mXPATH\u001b[49m\u001b[43m,\u001b[49m\u001b[43m \u001b[49m\u001b[38;5;124;43m'\u001b[39;49m\u001b[38;5;124;43mbutton/div/div[2]/span/span/span\u001b[39;49m\u001b[38;5;124;43m'\u001b[39;49m\u001b[43m)\u001b[49m\u001b[38;5;241m.\u001b[39mtext\n\u001b[0;32m     67\u001b[0m d[\u001b[38;5;124m'\u001b[39m\u001b[38;5;124mretweets_num\u001b[39m\u001b[38;5;124m'\u001b[39m] \u001b[38;5;241m=\u001b[39m re_num\n\u001b[0;32m     68\u001b[0m \u001b[38;5;28mprint\u001b[39m(\u001b[38;5;124mf\u001b[39m\u001b[38;5;124m'\u001b[39m\u001b[38;5;124mNo. of retweets of tweet \u001b[39m\u001b[38;5;132;01m{\u001b[39;00mnum\u001b[38;5;241m+\u001b[39m\u001b[38;5;241m1\u001b[39m\u001b[38;5;132;01m}\u001b[39;00m\u001b[38;5;124m: \u001b[39m\u001b[38;5;132;01m{\u001b[39;00mre_num\u001b[38;5;132;01m}\u001b[39;00m\u001b[38;5;124m'\u001b[39m)\n",
      "File \u001b[1;32mc:\\Users\\anush\\AppData\\Local\\Programs\\Python\\Python310\\lib\\site-packages\\selenium\\webdriver\\remote\\webelement.py:417\u001b[0m, in \u001b[0;36mWebElement.find_element\u001b[1;34m(self, by, value)\u001b[0m\n\u001b[0;32m    414\u001b[0m     by \u001b[38;5;241m=\u001b[39m By\u001b[38;5;241m.\u001b[39mCSS_SELECTOR\n\u001b[0;32m    415\u001b[0m     value \u001b[38;5;241m=\u001b[39m \u001b[38;5;124mf\u001b[39m\u001b[38;5;124m'\u001b[39m\u001b[38;5;124m[name=\u001b[39m\u001b[38;5;124m\"\u001b[39m\u001b[38;5;132;01m{\u001b[39;00mvalue\u001b[38;5;132;01m}\u001b[39;00m\u001b[38;5;124m\"\u001b[39m\u001b[38;5;124m]\u001b[39m\u001b[38;5;124m'\u001b[39m\n\u001b[1;32m--> 417\u001b[0m \u001b[38;5;28;01mreturn\u001b[39;00m \u001b[38;5;28;43mself\u001b[39;49m\u001b[38;5;241;43m.\u001b[39;49m\u001b[43m_execute\u001b[49m\u001b[43m(\u001b[49m\u001b[43mCommand\u001b[49m\u001b[38;5;241;43m.\u001b[39;49m\u001b[43mFIND_CHILD_ELEMENT\u001b[49m\u001b[43m,\u001b[49m\u001b[43m \u001b[49m\u001b[43m{\u001b[49m\u001b[38;5;124;43m\"\u001b[39;49m\u001b[38;5;124;43musing\u001b[39;49m\u001b[38;5;124;43m\"\u001b[39;49m\u001b[43m:\u001b[49m\u001b[43m \u001b[49m\u001b[43mby\u001b[49m\u001b[43m,\u001b[49m\u001b[43m \u001b[49m\u001b[38;5;124;43m\"\u001b[39;49m\u001b[38;5;124;43mvalue\u001b[39;49m\u001b[38;5;124;43m\"\u001b[39;49m\u001b[43m:\u001b[49m\u001b[43m \u001b[49m\u001b[43mvalue\u001b[49m\u001b[43m}\u001b[49m\u001b[43m)\u001b[49m[\u001b[38;5;124m\"\u001b[39m\u001b[38;5;124mvalue\u001b[39m\u001b[38;5;124m\"\u001b[39m]\n",
      "File \u001b[1;32mc:\\Users\\anush\\AppData\\Local\\Programs\\Python\\Python310\\lib\\site-packages\\selenium\\webdriver\\remote\\webelement.py:395\u001b[0m, in \u001b[0;36mWebElement._execute\u001b[1;34m(self, command, params)\u001b[0m\n\u001b[0;32m    393\u001b[0m     params \u001b[38;5;241m=\u001b[39m {}\n\u001b[0;32m    394\u001b[0m params[\u001b[38;5;124m\"\u001b[39m\u001b[38;5;124mid\u001b[39m\u001b[38;5;124m\"\u001b[39m] \u001b[38;5;241m=\u001b[39m \u001b[38;5;28mself\u001b[39m\u001b[38;5;241m.\u001b[39m_id\n\u001b[1;32m--> 395\u001b[0m \u001b[38;5;28;01mreturn\u001b[39;00m \u001b[38;5;28;43mself\u001b[39;49m\u001b[38;5;241;43m.\u001b[39;49m\u001b[43m_parent\u001b[49m\u001b[38;5;241;43m.\u001b[39;49m\u001b[43mexecute\u001b[49m\u001b[43m(\u001b[49m\u001b[43mcommand\u001b[49m\u001b[43m,\u001b[49m\u001b[43m \u001b[49m\u001b[43mparams\u001b[49m\u001b[43m)\u001b[49m\n",
      "File \u001b[1;32mc:\\Users\\anush\\AppData\\Local\\Programs\\Python\\Python310\\lib\\site-packages\\selenium\\webdriver\\remote\\webdriver.py:347\u001b[0m, in \u001b[0;36mWebDriver.execute\u001b[1;34m(self, driver_command, params)\u001b[0m\n\u001b[0;32m    345\u001b[0m response \u001b[38;5;241m=\u001b[39m \u001b[38;5;28mself\u001b[39m\u001b[38;5;241m.\u001b[39mcommand_executor\u001b[38;5;241m.\u001b[39mexecute(driver_command, params)\n\u001b[0;32m    346\u001b[0m \u001b[38;5;28;01mif\u001b[39;00m response:\n\u001b[1;32m--> 347\u001b[0m     \u001b[38;5;28;43mself\u001b[39;49m\u001b[38;5;241;43m.\u001b[39;49m\u001b[43merror_handler\u001b[49m\u001b[38;5;241;43m.\u001b[39;49m\u001b[43mcheck_response\u001b[49m\u001b[43m(\u001b[49m\u001b[43mresponse\u001b[49m\u001b[43m)\u001b[49m\n\u001b[0;32m    348\u001b[0m     response[\u001b[38;5;124m\"\u001b[39m\u001b[38;5;124mvalue\u001b[39m\u001b[38;5;124m\"\u001b[39m] \u001b[38;5;241m=\u001b[39m \u001b[38;5;28mself\u001b[39m\u001b[38;5;241m.\u001b[39m_unwrap_value(response\u001b[38;5;241m.\u001b[39mget(\u001b[38;5;124m\"\u001b[39m\u001b[38;5;124mvalue\u001b[39m\u001b[38;5;124m\"\u001b[39m, \u001b[38;5;28;01mNone\u001b[39;00m))\n\u001b[0;32m    349\u001b[0m     \u001b[38;5;28;01mreturn\u001b[39;00m response\n",
      "File \u001b[1;32mc:\\Users\\anush\\AppData\\Local\\Programs\\Python\\Python310\\lib\\site-packages\\selenium\\webdriver\\remote\\errorhandler.py:229\u001b[0m, in \u001b[0;36mErrorHandler.check_response\u001b[1;34m(self, response)\u001b[0m\n\u001b[0;32m    227\u001b[0m         alert_text \u001b[38;5;241m=\u001b[39m value[\u001b[38;5;124m\"\u001b[39m\u001b[38;5;124malert\u001b[39m\u001b[38;5;124m\"\u001b[39m]\u001b[38;5;241m.\u001b[39mget(\u001b[38;5;124m\"\u001b[39m\u001b[38;5;124mtext\u001b[39m\u001b[38;5;124m\"\u001b[39m)\n\u001b[0;32m    228\u001b[0m     \u001b[38;5;28;01mraise\u001b[39;00m exception_class(message, screen, stacktrace, alert_text)  \u001b[38;5;66;03m# type: ignore[call-arg]  # mypy is not smart enough here\u001b[39;00m\n\u001b[1;32m--> 229\u001b[0m \u001b[38;5;28;01mraise\u001b[39;00m exception_class(message, screen, stacktrace)\n",
      "\u001b[1;31mNoSuchElementException\u001b[0m: Message: no such element: Unable to locate element: {\"method\":\"xpath\",\"selector\":\"button/div/div[2]/span/span/span\"}\n  (Session info: chrome=126.0.6478.127); For documentation on this error, please visit: https://www.selenium.dev/documentation/webdriver/troubleshooting/errors#no-such-element-exception\nStacktrace:\n\tGetHandleVerifier [0x00007FF6150CEEA2+31554]\n\t(No symbol) [0x00007FF615047ED9]\n\t(No symbol) [0x00007FF614F0872A]\n\t(No symbol) [0x00007FF614F58434]\n\t(No symbol) [0x00007FF614F5853C]\n\t(No symbol) [0x00007FF614F4BBAC]\n\t(No symbol) [0x00007FF614F7D06F]\n\t(No symbol) [0x00007FF614F4BA76]\n\t(No symbol) [0x00007FF614F7D240]\n\t(No symbol) [0x00007FF614F9C977]\n\t(No symbol) [0x00007FF614F7CDD3]\n\t(No symbol) [0x00007FF614F4A33B]\n\t(No symbol) [0x00007FF614F4AED1]\n\tGetHandleVerifier [0x00007FF6153D8B1D+3217341]\n\tGetHandleVerifier [0x00007FF615425AE3+3532675]\n\tGetHandleVerifier [0x00007FF61541B0E0+3489152]\n\tGetHandleVerifier [0x00007FF61517E776+750614]\n\t(No symbol) [0x00007FF61505375F]\n\t(No symbol) [0x00007FF61504EB14]\n\t(No symbol) [0x00007FF61504ECA2]\n\t(No symbol) [0x00007FF61503E16F]\n\tBaseThreadInitThunk [0x00007FF903CF257D+29]\n\tRtlUserThreadStart [0x00007FF904A0AF28+40]\n"
     ]
    }
   ],
   "source": [
    "# To get follower count on twitter\n",
    "def get_twitter_followers(username):\n",
    "    browser_sm = webdriver.Chrome()  \n",
    "    browser_sm.get(f'https://www.x.com/{username}')  \n",
    "    time.sleep(10)\n",
    "    while True:\n",
    "        dates = browser_sm.find_elements(By.CSS_SELECTOR, 'a[class=\"css-146c3p1 r-bcqeeo r-1ttztb7 r-qvutc0 r-37j5jr r-a023e6 r-rjixqe r-16dba41 r-xoduu5 r-1q142lx r-1w6e6rj r-9aw3ui r-3s2u2q r-1loqt21\"]')\n",
    "        # dates = browser_sm.find_elements(By.CSS_SELECTOR, 'time')\n",
    "        tnum = len(dates)\n",
    "        print(tnum)\n",
    "        if tnum == 0:\n",
    "            print('Restarting')\n",
    "            browser_sm.get(f'https://www.x.com/{username}')  \n",
    "            time.sleep(10)\n",
    "        elif tnum >= 9:\n",
    "            ('Done')\n",
    "            break\n",
    "        else:\n",
    "            ('Scrolling')\n",
    "            browser_sm.execute_script(\"window.scrollTo(0, 10000)\")\n",
    "\n",
    "    fcount = browser_sm.find_elements(By.CSS_SELECTOR, value='span[class=\"css-1jxf684 r-bcqeeo r-1ttztb7 r-qvutc0 r-poiln3\"]')\n",
    "    for i in range(20,30):\n",
    "        # print(i.text)\n",
    "        if fcount[i].text == 'Followers':\n",
    "            fcount = fcount[i-1].text\n",
    "            break\n",
    "    print('No. of followers: ', fcount)\n",
    "\n",
    "    print('No. of tweets collected: ', len(dates))\n",
    "    texts_c = browser_sm.find_elements(By.CSS_SELECTOR, 'div[class=\"css-146c3p1 r-8akbws r-krxsd3 r-dnmrzs r-1udh08x r-bcqeeo r-1ttztb7 r-qvutc0 r-37j5jr r-a023e6 r-rjixqe r-16dba41 r-bnwqim\"]')\n",
    "    # print(len(texts_c))\n",
    "    nums = browser_sm.find_elements(By.CSS_SELECTOR, 'div[class=\"css-175oi2r r-18u37iz r-1h0z5md r-13awgt0\"]')\n",
    "    # print(len(nums))\n",
    "\n",
    "    info = []\n",
    "    for num in range(10):\n",
    "        print(f'Processing tweet {num}')\n",
    "        d = {}\n",
    "        date = dates[num].find_element(By.CSS_SELECTOR, 'time')\n",
    "        date = date.text\n",
    "        gaps = len(date.split(' '))\n",
    "        if gaps == 2:\n",
    "            date = date + f' {datetime.now().year}'\n",
    "        d['date'] = date\n",
    "        print(f'Date of tweet {num+1}: {date}')\n",
    "\n",
    "        spans = texts_c[num].find_elements(By.CSS_SELECTOR, 'span')\n",
    "        text = ''\n",
    "        for span in spans:\n",
    "            text = text + span.text\n",
    "        d['text'] = text\n",
    "        print(f'Tweet {num+1}: {text}')\n",
    "\n",
    "        if num == 0:\n",
    "            comments, retweets, likes, views = nums[0], nums[1], nums[2], nums[3]\n",
    "        else:\n",
    "            base_index = 4 * num  # Calculate the base index for the current tweet\n",
    "            comments, retweets, likes, views = nums[base_index], nums[base_index + 1], nums[base_index + 2], nums[base_index + 3]\n",
    "\n",
    "        com_num = comments.find_elements(By.XPATH, 'button/div/div[2]/span/span/span')\n",
    "        print(len(com_num))\n",
    "        com_num = com_num[0].text\n",
    "        d['comments_num'] = com_num\n",
    "        print(f'No. of comments of tweet {num+1}: {com_num}')\n",
    "        re_num = retweets.find_element(By.XPATH, 'button/div/div[2]/span/span/span').text\n",
    "        d['retweets_num'] = re_num\n",
    "        print(f'No. of retweets of tweet {num+1}: {re_num}')\n",
    "        lik_num = likes.find_element(By.XPATH, 'button/div/div[2]/span/span/span').text\n",
    "        d['likes_num'] = lik_num\n",
    "        print(f'Likes of tweet {num+1}: {lik_num}')\n",
    "        view_num = views.find_element(By.XPATH, 'button/div/div[2]/span/span/span').text\n",
    "        d['views_num'] = view_num\n",
    "        print(f'Views of tweet {num+1}: {view_num}')\n",
    "\n",
    "        info.append(d)\n",
    "        print(d)\n",
    "\n",
    "    browser_sm.quit()\n",
    "    return fcount, info\n",
    "\n",
    "username = 'rebeccawalser'#'BreederDAO'\n",
    "print(get_twitter_followers(username))"
   ]
  },
  {
   "cell_type": "code",
   "execution_count": null,
   "metadata": {},
   "outputs": [],
   "source": [
    "\n",
    "    # tweets = browser_sm.find_elements(By.CSS_SELECTOR, 'div.css-175oi2r[data-testid=\"cellInnerDiv\"]')\n",
    "    # print(len(tweets))\n",
    "    # articles = browser_sm.find_elements(By.CSS_SELECTOR, value='article')\n",
    "    # print(len(articles))\n",
    "    # idivs = browser_sm.find_elements(By.CSS_SELECTOR, 'div[class=\"css-175oi2r r-16y2uox r-1wbh5a2 r-1ny4l3l\"]')\n",
    "    # print(len(idivs))\n",
    "    # for div in idivs:\n",
    "    #     # outer = div.find_elements(By.CSS_SELECTOR, value='div')[1]\n",
    "    #     # inner = div.find_elements(By.CSS_SELECTOR, value='div')[1]\n",
    "    #     inner = div.find_element(By.XPATH, './/div[2]/*[2]')\n",
    "    #     tweet_divs = inner.find_elements(By.CSS_SELECTOR, value='div')\n",
    "    #     print(len(tweet_divs))\n",
    "    #     date_c = tweet_divs[0]\n",
    "    #     text_c = tweet_divs[1]\n",
    "    #     if len(tweet_divs) == 4:\n",
    "    #         interaction_c = tweet_divs[3]\n",
    "    #     else:\n",
    "    #         interaction_c = tweet_divs[2]"
   ]
  },
  {
   "cell_type": "code",
   "execution_count": 8,
   "metadata": {},
   "outputs": [
    {
     "name": "stdout",
     "output_type": "stream",
     "text": [
      "None\n"
     ]
    }
   ],
   "source": [
    "# To get follower count on telegram\n",
    "def get_telegram_followers(username):\n",
    "    html = requests.get(f'https://t.me/{username}').text\n",
    "    soup = BeautifulSoup(html).find('div', class_='tgme_page_extra')\n",
    "    if soup == None:\n",
    "        box = None\n",
    "    else:\n",
    "        box = soup.text[0:box.find(' mem')]\n",
    "    return box\n",
    "\n",
    "username = 'pikamo4je6wcial'\n",
    "print(get_telegram_followers(username))"
   ]
  },
  {
   "cell_type": "code",
   "execution_count": null,
   "metadata": {},
   "outputs": [],
   "source": [
    "# To get follower count on insta\n",
    "def get_insta_followers(username):\n",
    "    browser_sm = webdriver.Firefox()  \n",
    "    browser_sm.get(f'https://www.instagram.com/{username}')  \n",
    "    time.sleep(5)\n",
    "    count = browser_sm.find_elements(By.CSS_SELECTOR, value='span[class=\"html-span xdj266r x11i5rnm xat24cr x1mh8g0r xexx8yu x4uap5 x18d9i69 xkhd6sd x1hl2dhg x16tdsg8 x1vvkbs\"]')\n",
    "    check = len(count)\n",
    "    if check > 0:\n",
    "        count = count[1].text\n",
    "    else: \n",
    "        count = None\n",
    "    browser_sm.quit()\n",
    "    return count\n",
    "\n",
    "username = 'ujmfed'\n",
    "print(get_insta_followers(username))"
   ]
  },
  {
   "cell_type": "code",
   "execution_count": 19,
   "metadata": {},
   "outputs": [
    {
     "name": "stdout",
     "output_type": "stream",
     "text": [
      "9.3K\n"
     ]
    }
   ],
   "source": [
    "# To get follower count on facebook\n",
    "def get_fb_followers(username):\n",
    "    browser_sm = webdriver.Firefox()  \n",
    "    browser_sm.get(f'https://www.facebook.com/{username}')  \n",
    "    time.sleep(10)\n",
    "    count = browser_sm.find_elements(By.XPATH, \"//a[contains(@href, 'followers')]\")\n",
    "    # count = browser_sm.find_elements(By.CSS_SELECTOR, value='a[class=\"x1i10hfl xjbqb8w x1ejq31n xd10rxx x1sy0etr x17r0tee x972fbf xcfux6l x1qhh985 xm0m39n x9f619 x1ypdohk xt0psk2 xe8uvvx xdj266r x11i5rnm xat24cr x1mh8g0r xexx8yu x4uap5 x18d9i69 xkhd6sd x16tdsg8 x1hl2dhg xggy1nq x1a2a7pz x1sur9pj xkrqix3 xi81zsa x1s688f\"]')\n",
    "    check = len(count)\n",
    "    if check > 0:\n",
    "        count = count[0].text.split(' ')[0]\n",
    "    else:\n",
    "        count = None\n",
    "    browser_sm.quit()\n",
    "    return count\n",
    "\n",
    "username = 'eTukTukio'\n",
    "print(get_fb_followers(username))"
   ]
  },
  {
   "cell_type": "code",
   "execution_count": null,
   "metadata": {},
   "outputs": [],
   "source": [
    "def get_range(num):\n",
    "    options = ['0 - 1K', '1K-5K', '5K-20K', '20K-100K', 'greater than 100K']\n",
    "    if num.endswith('K'):\n",
    "        num = float(num[:-1])\n",
    "        if num <= 1.0:\n",
    "            option = options[0]\n",
    "        elif num <= 5.0:\n",
    "            option = options[1]\n",
    "        elif num <= 20.0:\n",
    "            option = options[2]\n",
    "        elif num <= 100.0:\n",
    "            option = options[3]\n",
    "        else:\n",
    "            option = options[4]\n",
    "    else:\n",
    "        num = int(num)\n",
    "        if num <= 1000:\n",
    "            option = options[0]\n",
    "        elif num <= 5000:\n",
    "            option = options[1]\n",
    "        elif num <= 20000:\n",
    "            option = options[2]\n",
    "        elif num <= 100000:\n",
    "            option = options[3]\n",
    "        else:\n",
    "            option = options[4]\n",
    "    return option\n",
    "\n",
    "print(get_range('9.3K'))\n"
   ]
  },
  {
   "cell_type": "code",
   "execution_count": 22,
   "metadata": {},
   "outputs": [
    {
     "data": {
      "text/plain": [
       "'https://linktr.ee/etuktuk'"
      ]
     },
     "execution_count": 22,
     "metadata": {},
     "output_type": "execute_result"
    }
   ],
   "source": [
    "# To try linktree of token by name\n",
    "def get_linktree(username):\n",
    "    url = f'https://linktr.ee/{username}'\n",
    "    try:\n",
    "        response = requests.get(url)\n",
    "        if response.status_code == 200:\n",
    "            link = url\n",
    "        else:\n",
    "            link = None\n",
    "    except: \n",
    "        link = None\n",
    "    return link\n",
    "\n",
    "username = 'etuktuk'#'MarginlyUpdatesandOracleFeature'\n",
    "linktree = get_linktree(username)\n",
    "linktree"
   ]
  },
  {
   "cell_type": "code",
   "execution_count": 1,
   "metadata": {},
   "outputs": [],
   "source": [
    "# html = requests.get('https://www.youtube.com/@etuktuk')\n",
    "# print(html.status_code)\n",
    "# print(html.content)\n",
    "# soup = BeautifulSoup(html)\n",
    "# boxes = soup.find('a', class_='x1ixi81zsa x1s688f').text\n",
    "# boxes[0:boxes.find(' mem')]"
   ]
  },
  {
   "cell_type": "code",
   "execution_count": 14,
   "metadata": {},
   "outputs": [
    {
     "name": "stdout",
     "output_type": "stream",
     "text": [
      "Zero Name Service (ZNS)\n",
      "ZeroNameService(ZNS)\n",
      "15\n",
      "ZeroNameService(ZN\n"
     ]
    }
   ],
   "source": [
    "username = 'ZeroNameService(ZNS)'\n",
    "print(username)\n",
    "print(username.find('('))\n",
    "if username.find('(') != -1: username = username[0:name.find('(')]\n",
    "if username.find('(') != -1: username = username[0:name.find('(')]\n",
    "print(username)\n",
    "if username.find('-') != -1: username = username[0:name.find(' -')].strip()"
   ]
  },
  {
   "cell_type": "code",
   "execution_count": 4,
   "metadata": {},
   "outputs": [
    {
     "name": "stdout",
     "output_type": "stream",
     "text": [
      "Yesterday on  with  we discussed the spending habits of our current administration and what must be done to bring the American economy back to good health. Watch the segment linked below!\n",
      "----------\n",
      "Always love joining  on ! Today we discussed Powell's testimony and whether or not we can expect a rate cut soon. You can watch the segment linked below and to learn more, visit - https://walserwealth.com. #NotYourAverageAdvisor #SchwabNetwork\n",
      "----------\n",
      "Ignoring the signs can cost you. Now's the time to review your finances. Plan ahead and protect your finances. #TaxIncrease #FinancialAdvice #BePrepared\n",
      "----------\n",
      "calling all early birds  - please join us now… with     #FoxNews #FoxBusiness\n",
      "----------\n",
      "A Democrat civil war is brewing…\n",
      " \n",
      "Elon Musk declares war on behalf of the first amendment…\n",
      "----------\n",
      "Tune in to  tonight at 5:40 PM EST as I join “Carl Higbie: Frontline”!\n",
      "----------\n",
      "Click the link below to watch my appearance on  where we took a look at the current state of the market, with a special focus on the housing market. #NotYourAverageAdvisorhttps://youtu.be/f8Rak9Gg4X4\n",
      "----------\n",
      "*JOIN ME* with the #MakingMoney #FoxBusiness crew for  ‘s Unbreakable Investor Townhall… starting in 10… #FoxNews\n",
      "----------\n",
      ". shares her takeaways from Fed Chair Powell’s testimony thus far and what it means for markets with : “He’s just not in the camp of dovishness enough that he’s ready to cut.”\n",
      "----------\n",
      "On my way to join  at 11:00 AM EST today! Looking forward to it!\n",
      "----------\n"
     ]
    }
   ],
   "source": [
    "import pandas as pd\n",
    "df = pd.read_csv(r\"C:\\Users\\anush\\OneDrive\\Desktop\\Work\\smallcap\\scraper-repo\\selenium-twitter-scraper\\tweets\\2024-07-15_12-01-17_tweets_1-10.csv\")\n",
    "for i, row in df.iterrows():\n",
    "    print(row[4])\n",
    "    print('----------')"
   ]
  },
  {
   "cell_type": "code",
   "execution_count": 9,
   "metadata": {},
   "outputs": [
    {
     "name": "stdout",
     "output_type": "stream",
     "text": [
      "No. of followers:  132.7K\n"
     ]
    }
   ],
   "source": [
    "from selenium import webdriver\n",
    "# from selenium.webdriver import Chrome\n",
    "from selenium.webdriver.common.by import By\n",
    "import time\n",
    "\n",
    "# To get follower count on twitter\n",
    "def get_twitter_followers(username):\n",
    "    browser_sm = webdriver.Chrome()  \n",
    "    browser_sm.get(f'https://www.x.com/{username}')  \n",
    "    time.sleep(5)\n",
    "    fcount = browser_sm.find_elements(By.CSS_SELECTOR, value='span[class=\"css-1jxf684 r-bcqeeo r-1ttztb7 r-qvutc0 r-poiln3\"]')\n",
    "    for i in range(20,30):\n",
    "        if fcount[i].text == 'Followers':\n",
    "            fcount = fcount[i-1].text\n",
    "            break\n",
    "    browser_sm.quit()\n",
    "    return fcount\n",
    "\n",
    "username = 'BreederDAO' #'rebeccawalser'\n",
    "print('No. of followers: ', get_twitter_followers(username))"
   ]
  },
  {
   "cell_type": "code",
   "execution_count": null,
   "metadata": {},
   "outputs": [],
   "source": []
  }
 ],
 "metadata": {
  "kernelspec": {
   "display_name": "Python 3",
   "language": "python",
   "name": "python3"
  },
  "language_info": {
   "codemirror_mode": {
    "name": "ipython",
    "version": 3
   },
   "file_extension": ".py",
   "mimetype": "text/x-python",
   "name": "python",
   "nbconvert_exporter": "python",
   "pygments_lexer": "ipython3",
   "version": "3.10.9"
  }
 },
 "nbformat": 4,
 "nbformat_minor": 2
}
